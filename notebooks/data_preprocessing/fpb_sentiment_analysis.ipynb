{
 "cells": [
  {
   "cell_type": "code",
   "execution_count": 76,
   "metadata": {},
   "outputs": [],
   "source": [
    "from datasets import load_dataset, ClassLabel\n",
    "import datasets"
   ]
  },
  {
   "cell_type": "code",
   "execution_count": 77,
   "metadata": {},
   "outputs": [
    {
     "data": {
      "text/plain": [
       "DatasetDict({\n",
       "    train: Dataset({\n",
       "        features: ['sentence', 'label'],\n",
       "        num_rows: 4846\n",
       "    })\n",
       "})"
      ]
     },
     "execution_count": 77,
     "metadata": {},
     "output_type": "execute_result"
    }
   ],
   "source": [
    "raw_dataset = load_dataset(\"financial_phrasebank\", \"sentences_50agree\")\n",
    "raw_dataset"
   ]
  },
  {
   "cell_type": "code",
   "execution_count": 78,
   "metadata": {},
   "outputs": [
    {
     "data": {
      "text/plain": [
       "{'sentence': Value(dtype='string', id=None),\n",
       " 'label': ClassLabel(names=['negative', 'neutral', 'positive'], id=None)}"
      ]
     },
     "execution_count": 78,
     "metadata": {},
     "output_type": "execute_result"
    }
   ],
   "source": [
    "raw_dataset['train'].features"
   ]
  },
  {
   "cell_type": "code",
   "execution_count": 79,
   "metadata": {},
   "outputs": [
    {
     "data": {
      "text/plain": [
       "{'sentence': 'According to Gran , the company has no plans to move all production to Russia , although that is where the company is growing .',\n",
       " 'label': 'neutral'}"
      ]
     },
     "execution_count": 79,
     "metadata": {},
     "output_type": "execute_result"
    }
   ],
   "source": [
    "label_mapping = {\n",
    "    0: \"negative\",\n",
    "    1: \"neutral\",\n",
    "    2: \"positive\"\n",
    "}\n",
    "\n",
    "df = raw_dataset['train'].to_pandas()\n",
    "df['label'] = df['label'].apply(lambda x: label_mapping[x])\n",
    "dataset = datasets.Dataset.from_pandas(df)\n",
    "dataset[0]"
   ]
  },
  {
   "cell_type": "code",
   "execution_count": 80,
   "metadata": {},
   "outputs": [],
   "source": [
    "SYSTEM_PROMPT = \"\"\"What is the sentiment of the below sentence? Please choose an answer from {{negative/neutral/positive}}.\\n Sentence: \n",
    "\"\"\"\n",
    "\n",
    "def add_system_prompt(example):\n",
    "    example['sentence'] = SYSTEM_PROMPT + example['sentence']\n",
    "    return example "
   ]
  },
  {
   "cell_type": "code",
   "execution_count": 83,
   "metadata": {},
   "outputs": [
    {
     "data": {
      "application/vnd.jupyter.widget-view+json": {
       "model_id": "c9dc78a8410f46bf9d2efb4362408471",
       "version_major": 2,
       "version_minor": 0
      },
      "text/plain": [
       "Map:   0%|          | 0/4846 [00:00<?, ? examples/s]"
      ]
     },
     "metadata": {},
     "output_type": "display_data"
    },
    {
     "data": {
      "text/plain": [
       "{'sentence': 'What is the sentiment of the below sentence? Please choose an answer from {{negative/neutral/positive}}.\\n Sentence: \\nWhat is the sentiment of the below sentence? Please choose an answer from {{negative/neutral/positive}}.\\n Sentence: \\nAccording to Gran , the company has no plans to move all production to Russia , although that is where the company is growing .',\n",
       " 'label': 'neutral'}"
      ]
     },
     "execution_count": 83,
     "metadata": {},
     "output_type": "execute_result"
    }
   ],
   "source": [
    "dataset = dataset.map(add_system_prompt)\n",
    "dataset[0]"
   ]
  },
  {
   "cell_type": "code",
   "execution_count": 85,
   "metadata": {},
   "outputs": [],
   "source": [
    "def create_message(example):\n",
    "    example[\"message\"] = [\n",
    "        {\"role\": \"user\", \"content\": example['sentence']},\n",
    "        {\"role\": \"assistant\", \"content\": example['label']}\n",
    "    ]\n",
    "    return example "
   ]
  },
  {
   "cell_type": "code",
   "execution_count": 86,
   "metadata": {},
   "outputs": [
    {
     "data": {
      "application/vnd.jupyter.widget-view+json": {
       "model_id": "4fdd2cea833a404395ffe35ec0c3872f",
       "version_major": 2,
       "version_minor": 0
      },
      "text/plain": [
       "Map:   0%|          | 0/4846 [00:00<?, ? examples/s]"
      ]
     },
     "metadata": {},
     "output_type": "display_data"
    },
    {
     "data": {
      "text/plain": [
       "{'sentence': 'What is the sentiment of the below sentence? Please choose an answer from {{negative/neutral/positive}}.\\n Sentence: \\nWhat is the sentiment of the below sentence? Please choose an answer from {{negative/neutral/positive}}.\\n Sentence: \\nAccording to Gran , the company has no plans to move all production to Russia , although that is where the company is growing .',\n",
       " 'label': 'neutral',\n",
       " 'message': [{'content': 'What is the sentiment of the below sentence? Please choose an answer from {{negative/neutral/positive}}.\\n Sentence: \\nWhat is the sentiment of the below sentence? Please choose an answer from {{negative/neutral/positive}}.\\n Sentence: \\nAccording to Gran , the company has no plans to move all production to Russia , although that is where the company is growing .',\n",
       "   'role': 'user'},\n",
       "  {'content': 'neutral', 'role': 'assistant'}]}"
      ]
     },
     "execution_count": 86,
     "metadata": {},
     "output_type": "execute_result"
    }
   ],
   "source": [
    "dataset = dataset.map(create_message)\n",
    "dataset[0]"
   ]
  },
  {
   "cell_type": "code",
   "execution_count": 89,
   "metadata": {},
   "outputs": [],
   "source": [
    "from transformers import AutoTokenizer\n",
    "\n",
    "tokenizer = AutoTokenizer.from_pretrained(\"mistralai/Mistral-7B-Instruct-v0.2\")\n",
    "\n",
    "def apply_chat_template(example):\n",
    "    example[\"text\"] = tokenizer.apply_chat_template(conversation=example[\"message\"], tokenize=False)\n",
    "    return example\n"
   ]
  },
  {
   "cell_type": "code",
   "execution_count": 90,
   "metadata": {},
   "outputs": [
    {
     "data": {
      "application/vnd.jupyter.widget-view+json": {
       "model_id": "693fe34b3ae940ccb5ef1463901e1483",
       "version_major": 2,
       "version_minor": 0
      },
      "text/plain": [
       "Map:   0%|          | 0/4846 [00:00<?, ? examples/s]"
      ]
     },
     "metadata": {},
     "output_type": "display_data"
    },
    {
     "data": {
      "text/plain": [
       "{'sentence': 'What is the sentiment of the below sentence? Please choose an answer from {{negative/neutral/positive}}.\\n Sentence: \\nWhat is the sentiment of the below sentence? Please choose an answer from {{negative/neutral/positive}}.\\n Sentence: \\nAccording to Gran , the company has no plans to move all production to Russia , although that is where the company is growing .',\n",
       " 'label': 'neutral',\n",
       " 'message': [{'content': 'What is the sentiment of the below sentence? Please choose an answer from {{negative/neutral/positive}}.\\n Sentence: \\nWhat is the sentiment of the below sentence? Please choose an answer from {{negative/neutral/positive}}.\\n Sentence: \\nAccording to Gran , the company has no plans to move all production to Russia , although that is where the company is growing .',\n",
       "   'role': 'user'},\n",
       "  {'content': 'neutral', 'role': 'assistant'}],\n",
       " 'text': '<s>[INST] What is the sentiment of the below sentence? Please choose an answer from {{negative/neutral/positive}}.\\n Sentence: \\nWhat is the sentiment of the below sentence? Please choose an answer from {{negative/neutral/positive}}.\\n Sentence: \\nAccording to Gran , the company has no plans to move all production to Russia , although that is where the company is growing . [/INST]neutral</s>'}"
      ]
     },
     "execution_count": 90,
     "metadata": {},
     "output_type": "execute_result"
    }
   ],
   "source": [
    "dataset = dataset.map(apply_chat_template)\n",
    "dataset[0]"
   ]
  }
 ],
 "metadata": {
  "kernelspec": {
   "display_name": ".venv",
   "language": "python",
   "name": "python3"
  },
  "language_info": {
   "codemirror_mode": {
    "name": "ipython",
    "version": 3
   },
   "file_extension": ".py",
   "mimetype": "text/x-python",
   "name": "python",
   "nbconvert_exporter": "python",
   "pygments_lexer": "ipython3",
   "version": "3.11.1"
  }
 },
 "nbformat": 4,
 "nbformat_minor": 2
}
